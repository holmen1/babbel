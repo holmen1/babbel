{
 "cells": [
  {
   "cell_type": "markdown",
   "metadata": {
    "colab_type": "text",
    "id": "eM2WI45DjCVp"
   },
   "source": [
    "# kladd\n",
    " \n",
    "\n"
   ]
  },
  {
   "cell_type": "code",
   "execution_count": 2,
   "metadata": {
    "colab": {
     "base_uri": "https://localhost:8080/",
     "height": 493
    },
    "colab_type": "code",
    "id": "WOTfm2P0jCVt",
    "outputId": "d4903011-7268-4bea-ae35-ea3fd0b46311"
   },
   "outputs": [],
   "source": [
    "import os \n",
    "import random as rnd\n",
    "\n",
    "# import relevant libraries\n",
    "import trax\n",
    "\n",
    "# import trax.fastmath.numpy\n",
    "import trax.fastmath.numpy as np\n",
    "\n",
    "# import trax.layers\n",
    "from trax import layers as tl\n",
    "\n",
    "# import Layer from the utils.py file\n",
    "from utils import Layer, load_tweets, process_tweet\n",
    "#from utils import \n"
   ]
  },
  {
   "cell_type": "markdown",
   "metadata": {},
   "source": [
    "## Generators"
   ]
  },
  {
   "cell_type": "code",
   "execution_count": 3,
   "metadata": {},
   "outputs": [],
   "source": [
    "def data_generator(data_x, data_y):\n",
    "    '''\n",
    "      Input: \n",
    "        batch_size - integer describing the batch size\n",
    "        data_x - list containing samples\n",
    "        data_y - list containing labels\n",
    "        shuffle - Shuffle the data order\n",
    "      Output:\n",
    "        a tuple containing 2 elements:\n",
    "        X - list of dim (batch_size) of samples\n",
    "        Y - list of dim (batch_size) of labels\n",
    "    '''\n",
    "    data_lng = len(data_x) # len(data_x) must be equal to len(data_y)\n",
    "    index_list = [*range(data_lng)] # Create a list with the ordered indexes of sample data\n",
    "    index = 0\n",
    "    while True:\n",
    "        X = data_x[index_list[index]]\n",
    "        Y = data_y[index_list[index]]\n",
    "        index += 1\n",
    "        \n",
    "        yield((X, Y))\n",
    "    "
   ]
  },
  {
   "cell_type": "code",
   "execution_count": 4,
   "metadata": {},
   "outputs": [
    {
     "name": "stdout",
     "output_type": "stream",
     "text": [
      "('Hej på dig', 1)\n",
      "('din gamla galosch', 1)\n",
      "('FU', 0)\n"
     ]
    }
   ],
   "source": [
    "def test_data_generator():\n",
    "    x = [\"Hej på dig\", \"din gamla galosch\", \"FU\"]\n",
    "    y = [1,1,0]\n",
    "    \n",
    "    generator = data_generator(x, y)\n",
    "\n",
    "    print(next(generator))\n",
    "    print(next(generator))\n",
    "    print(next(generator))\n",
    "\n",
    "test_data_generator()"
   ]
  },
  {
   "cell_type": "code",
   "execution_count": 5,
   "metadata": {},
   "outputs": [
    {
     "name": "stdout",
     "output_type": "stream",
     "text": [
      "('Hej på dig', 1)\n",
      "('din gamla galosch', 1)\n",
      "('FU', 0)\n"
     ]
    }
   ],
   "source": [
    "x = [\"Hej på dig\", \"din gamla galosch\", \"FU\"]\n",
    "y = [1,1,0]\n",
    "z = zip(x, y)\n",
    "\n",
    "print(next(z))\n",
    "print(next(z))\n",
    "print(next(z))"
   ]
  },
  {
   "cell_type": "code",
   "execution_count": 6,
   "metadata": {},
   "outputs": [
    {
     "name": "stdout",
     "output_type": "stream",
     "text": [
      "x0:\n",
      "[1 2 3 4 5]\n",
      "\n",
      "x1:\n",
      "[ 10 -20  30 -40  50]\n",
      "\n",
      "y0:\n",
      "[ 11 -18  33 -36  55]\n",
      "\n",
      "y1:\n",
      "[10  2 30  4 50]\n"
     ]
    },
    {
     "name": "stderr",
     "output_type": "stream",
     "text": [
      "/Users/holmen1/opt/anaconda3/lib/python3.7/site-packages/jax/lib/xla_bridge.py:130: UserWarning: No GPU/TPU found, falling back to CPU.\n",
      "  warnings.warn('No GPU/TPU found, falling back to CPU.')\n"
     ]
    }
   ],
   "source": [
    "# Define new layer type.\n",
    "def SumAndMax():\n",
    "  \"\"\"Returns a layer to compute sums and maxima of two input tensors.\"\"\"\n",
    "  return tl.Fn('SumAndMax',\n",
    "               lambda x0, x1: (x0 + x1, np.maximum(x0, x1)),\n",
    "               n_out=2)\n",
    "\n",
    "# Use it.\n",
    "sum_and_max = SumAndMax()\n",
    "\n",
    "x0 = np.array([1, 2, 3, 4, 5])\n",
    "x1 = np.array([10, -20, 30, -40, 50])\n",
    "\n",
    "y0, y1 = sum_and_max([x0, x1])\n",
    "\n",
    "print(f'x0:\\n{x0}\\n\\n'\n",
    "      f'x1:\\n{x1}\\n\\n'\n",
    "      f'y0:\\n{y0}\\n\\n'\n",
    "      f'y1:\\n{y1}')\n",
    "\n"
   ]
  },
  {
   "cell_type": "code",
   "execution_count": null,
   "metadata": {},
   "outputs": [],
   "source": []
  }
 ],
 "metadata": {
  "colab": {
   "collapsed_sections": [],
   "name": "C3_W1_Assignment_Solution.ipynb",
   "provenance": []
  },
  "coursera": {
   "schema_names": [
    "NLPC3-1A"
   ]
  },
  "kernelspec": {
   "display_name": "Python 3",
   "language": "python",
   "name": "python3"
  },
  "language_info": {
   "codemirror_mode": {
    "name": "ipython",
    "version": 3
   },
   "file_extension": ".py",
   "mimetype": "text/x-python",
   "name": "python",
   "nbconvert_exporter": "python",
   "pygments_lexer": "ipython3",
   "version": "3.7.7"
  }
 },
 "nbformat": 4,
 "nbformat_minor": 1
}
